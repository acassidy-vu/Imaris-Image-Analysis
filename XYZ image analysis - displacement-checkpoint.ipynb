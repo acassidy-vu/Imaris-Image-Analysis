{
 "cells": [
  {
   "cell_type": "code",
   "execution_count": 1,
   "id": "92f8ba83",
   "metadata": {},
   "outputs": [],
   "source": [
    "    \n",
    "    \n",
    "#___________________________X displacement____________________________    \n",
    "x_displacement = []\n",
    "x_displacement_f=[]\n",
    "with open(r'C:\\Users\\annao\\\\Documents\\Zanic Rotation\\LLCPK1 GFP-EB1  254_iSIM-488nm-525-50_Track_Displacement_X.csv','r') as x_dis:\n",
    "    header=x_dis.readline()\n",
    "    heade=x_dis.readline()\n",
    "    head=x_dis.readline()\n",
    "    hea=x_dis.readline()\n",
    "    #he=x_dis.readline()\n",
    "    #h=x_dis.readline()\n",
    "    for line in x_dis:\n",
    "        X_D=line.rstrip().split(',')\n",
    "        #xv=float(xvel[0])\n",
    "        x_displacement.append(X_D[0])\n",
    "#x_displacement.remove('Velocity X')\n",
    "try:\n",
    "    while True:\n",
    "        x_displacement.remove('')\n",
    "except ValueError:\n",
    "    pass\n",
    "\n",
    "for values in x_displacement:\n",
    "    v=float(values)\n",
    "    if v<=0:\n",
    "        vv=v*-1\n",
    "        x_displacement_f.append(vv)\n",
    "    else:\n",
    "        x_displacement_f.append(v)\n",
    "        \n",
    "            \n",
    "#print(x_displacment_f)\n",
    "    \n",
    "    \n",
    "#___________________________Y displacement____________________________    \n",
    "y_displacement = []\n",
    "y_displacement_f=[]\n",
    "with open(r'C:\\Users\\annao\\\\Documents\\Zanic Rotation\\LLCPK1 GFP-EB1  254_iSIM-488nm-525-50_Track_Displacement_Y.csv','r') as y_vel:\n",
    "    header=y_vel.readline()\n",
    "    heade=y_vel.readline()\n",
    "    head=y_vel.readline()\n",
    "    hea=y_vel.readline()\n",
    "    #he=y_vel.readline()\n",
    "    #h=y_vel.readline()\n",
    "    for line in y_vel:\n",
    "        Y_V=line.rstrip().split(',')\n",
    "        #xv=float(xvel[0])\n",
    "        y_displacement.append(Y_V[0])\n",
    "#y_velocity.remove('Velocity Y')\n",
    "try:\n",
    "    while True:\n",
    "        y_displacement.remove('')\n",
    "except ValueError:\n",
    "    pass\n",
    "\n",
    "for values in y_displacement:\n",
    "    v=float(values)\n",
    "    if v<=0:\n",
    "        vv=v*-1\n",
    "        y_displacement_f.append(vv)\n",
    "    else:\n",
    "        y_displacement_f.append(v)\n",
    "    \n",
    "    \n",
    "#___________________________Z displacement____________________________    \n",
    "z_displacement = []\n",
    "z_displacement_f=[]\n",
    "with open(r'C:\\Users\\annao\\\\Documents\\Zanic Rotation\\LLCPK1 GFP-EB1  254_iSIM-488nm-525-50_Track_Displacement_Z.csv','r') as z_vel:\n",
    "    header=z_vel.readline()\n",
    "    heade=z_vel.readline()\n",
    "    head=z_vel.readline()\n",
    "    hea=z_vel.readline()\n",
    "    he=z_vel.readline()\n",
    "    h=z_vel.readline()\n",
    "    for line in z_vel:\n",
    "        Z_V=line.rstrip().split(',')\n",
    "        #xv=float(xvel[0])\n",
    "        z_displacement.append(Z_V[0])\n",
    "#z_velocity.remove('Velocity Z')\n",
    "try:\n",
    "    while True:\n",
    "        z_displacement.remove('')\n",
    "except ValueError:\n",
    "    pass\n",
    "\n",
    "for values in z_displacement:\n",
    "    v=float(values)\n",
    "    if v<=0:\n",
    "        vv=v*-1\n",
    "        z_displacement_f.append(vv)\n",
    "    else:\n",
    "        z_displacement_f.append(v)\n"
   ]
  },
  {
   "cell_type": "code",
   "execution_count": 4,
   "id": "9c7e4f86",
   "metadata": {
    "scrolled": true
   },
   "outputs": [
    {
     "name": "stdout",
     "output_type": "stream",
     "text": [
      "\u001b[1mX Displacement: \u001b[0m\n",
      "Median: 1.2312850000000002\n",
      "Mean: 2.027452320158763\n",
      "Q1: 0.4\n",
      "Q3: 2.9\n",
      "\n",
      "\u001b[1mY Displacement: \u001b[0m\n",
      "Median: 0.604815\n",
      "Mean: 1.2337128365293513\n",
      "Q1: 0.2\n",
      "Q3: 1.7\n",
      "\n",
      "\u001b[1mZ Displacement: \u001b[0m \n",
      "Median: 0.0\n",
      "Mean: 0.1203979817750258\n",
      "Q1: 0.0\n",
      "Q3: 0.2\n",
      "\n"
     ]
    },
    {
     "data": {
      "image/png": "[encoded data removed]",
      "text/plain": [
       "<Figure size 432x288 with 1 Axes>"
      ]
     },
     "metadata": {
      "needs_background": "light"
     },
     "output_type": "display_data"
    },
    {
     "data": {
      "text/plain": [
       "<Figure size 432x288 with 0 Axes>"
      ]
     },
     "metadata": {},
     "output_type": "display_data"
    }
   ],
   "source": [
    "x7=x_displacement_f\n",
    "y7=y_displacement_f\n",
    "z7=z_displacement_f\n",
    "\n",
    "import matplotlib.pyplot as plt\n",
    "import numpy as np\n",
    "import seaborn as sns\n",
    "green_diamond = dict(markerfacecolor='b', marker='.', alpha=0.08)\n",
    "red= dict(color='r')\n",
    "blue= dict(color='b')\n",
    "labels=list('XYZ')\n",
    "data = [x7, y7, z7]\n",
    "fig7, ax7 = plt.subplots()\n",
    "ax7.set_title('Distribution of EB1 Comet Displacement')\n",
    "ax7.set_xlabel('Dimension')\n",
    "ax7.set_ylabel('Displacement (um)')\n",
    "AX7= ax7.boxplot(data, showmeans=True, labels=labels, flierprops=green_diamond, \n",
    "            medianprops=red, meanprops=blue)\n",
    "\n",
    "#for i in [1,2,3]:\n",
    "    #y = AX4.distribution[titanic.dimension==i].dropna()\n",
    "    #ax4.scatter(data, 'r.', alpha=0.2)\n",
    "    \n",
    "    \n",
    "medians = [item.get_ydata()[0] for item in AX7['medians']]\n",
    "means = [item.get_ydata()[0] for item in AX7['means']]\n",
    "q1 = [round(min(item.get_ydata()), 1) for item in AX7['boxes']]\n",
    "q3 = [round(max(item.get_ydata()), 1) for item in AX7['boxes']]\n",
    "\n",
    "\n",
    "import csv\n",
    "with open (r'C:\\Users\\annao\\Desktop\\Displacement.csv','a',newline='') as avg_displacement:\n",
    "    writer=csv.writer(avg_displacement)\n",
    "    #writer.writerow([\"X displacement\",\"Y displacement\",\"Z displacement\"])\n",
    "    writer.writerow([means[0],means[1],means[2]])\n",
    "\n",
    "print(f'\\033[1mX Displacement: \\033[0m\\n'\n",
    "        f'Median: {medians[0]}\\n'\n",
    "      f'Mean: {means[0]}\\n'\n",
    "     f'Q1: {q1[0]}\\n'\n",
    "     f'Q3: {q3[0]}\\n')\n",
    "print(f'\\033[1mY Displacement: \\033[0m\\n'\n",
    "    f'Median: {medians[1]}\\n'\n",
    "      f'Mean: {means[1]}\\n'\n",
    "     f'Q1: {q1[1]}\\n'\n",
    "     f'Q3: {q3[1]}\\n')\n",
    "print(f'\\033[1mZ Displacement: \\033[0m \\n'\n",
    "    f'Median: {medians[2]}\\n'\n",
    "      f'Mean: {means[2]}\\n'\n",
    "     f'Q1: {q1[2]}\\n'\n",
    "     f'Q3: {q3[2]}\\n')\n",
    "\n",
    "\n",
    "#ax4.scatter(x, y, 'r.', alpha=0.2)\n",
    "#ax4 = sns.swarmplot(data=data, color=\".25\")\n",
    "\n",
    "plt.show()\n",
    "plt.savefig('Boxplot of displacement Distribution cell 254')"
   ]
  },
  {
   "cell_type": "code",
   "execution_count": 5,
   "id": "e40d7fff",
   "metadata": {},
   "outputs": [
    {
     "data": {
      "text/plain": [
       "KruskalResult(statistic=1229.528930242588, pvalue=1.0260892262426534e-267)"
      ]
     },
     "execution_count": 5,
     "metadata": {},
     "output_type": "execute_result"
    }
   ],
   "source": [
    "from scipy import stats\n",
    "stats.kruskal(x7, y7, z7)"
   ]
  },
  {
   "cell_type": "code",
   "execution_count": 6,
   "id": "db810f3f",
   "metadata": {},
   "outputs": [
    {
     "data": {
      "text/plain": [
       "969"
      ]
     },
     "execution_count": 6,
     "metadata": {},
     "output_type": "execute_result"
    }
   ],
   "source": [
    "len(z_displacement_f)"
   ]
  },
  {
   "cell_type": "code",
   "execution_count": 13,
   "id": "dc31e778",
   "metadata": {
    "scrolled": true
   },
   "outputs": [
    {
     "name": "stdout",
     "output_type": "stream",
     "text": [
      "\u001b[1mX Velocity: \u001b[0m\n",
      "Median: 0.05155162032296886\n",
      "Mean: 0.05155162032296886\n",
      "Q1: 0.1\n",
      "Q3: 0.1\n",
      "\n",
      "\u001b[1mY Velocity: \u001b[0m\n",
      "Median: -0.008913281848303794\n",
      "Mean: -0.008913281848303794\n",
      "Q1: -0.0\n",
      "Q3: -0.0\n",
      "\n",
      "\u001b[1mZ Velocity: \u001b[0m \n",
      "Median: -0.003479674533974365\n",
      "Mean: -0.003479674533974365\n",
      "Q1: -0.0\n",
      "Q3: -0.0\n",
      "\n",
      "The p value is 0.18\n"
     ]
    },
    {
     "data": {
      "image/png": "[encoded data removed]",
      "text/plain": [
       "<Figure size 432x288 with 1 Axes>"
      ]
     },
     "metadata": {
      "needs_background": "light"
     },
     "output_type": "display_data"
    }
   ],
   "source": [
    "x_displacement_avg=[]\n",
    "y_displacement_avg=[]\n",
    "z_displacement_avg=[]\n",
    "\n",
    "import csv\n",
    "with open (r'C:\\Users\\annao\\Desktop\\Displacement.csv','r') as avg_displacement:\n",
    "    header=avg_displacement.readline()\n",
    "    for line in avg_displacement:\n",
    "        AV=line.rstrip().split(',')\n",
    "        x_displacement_avg.append(float(AV[0]))\n",
    "        y_displacement_avg.append(float(AV[1]))\n",
    "        z_displacement_avg.append(float(AV[2]))\n",
    "\n",
    "#print(x_velocity_avg)\n",
    "#print(y_velocity_avg)\n",
    "#print(z_velocity_avg)\n",
    "\n",
    "x=x_displacement_avg\n",
    "y=y_displacement_avg\n",
    "z=z_displacement_avg\n",
    "\n",
    "import seaborn as sns\n",
    "green_diamond = dict(markerfacecolor='b', marker='.', alpha=0.08)\n",
    "red= dict(color='r')\n",
    "blue= dict(color='b')\n",
    "labels=list('XYZ')\n",
    "data = [x, y, z]\n",
    "fig, ax = plt.subplots()\n",
    "ax.set_title('Distribution of EB1 Comet Displacement')\n",
    "ax.set_xlabel('Dimension')\n",
    "ax.set_ylabel('Displacement (um)')\n",
    "AX= ax.boxplot(data, showmeans=True, labels=labels, flierprops=green_diamond, \n",
    "            medianprops=red, meanprops=blue)\n",
    "\n",
    "#for i in [1,2,3]:\n",
    "    #y = AX4.distribution[titanic.dimension==i].dropna()\n",
    "    #ax4.scatter(data, 'r.', alpha=0.2)\n",
    "    \n",
    "\n",
    "\n",
    "medians = [item.get_ydata()[0] for item in AX['medians']]\n",
    "means = [item.get_ydata()[0] for item in AX['means']]\n",
    "q1 = [round(min(item.get_ydata()), 1) for item in AX['boxes']]\n",
    "q3 = [round(max(item.get_ydata()), 1) for item in AX['boxes']]\n",
    "\n",
    "print(f'\\033[1mX displacement: \\033[0m\\n'\n",
    "        f'Median: {medians[0]}\\n'\n",
    "      f'Mean: {means[0]}\\n'\n",
    "     f'Q1: {q1[0]}\\n'\n",
    "     f'Q3: {q3[0]}\\n')\n",
    "print(f'\\033[1mY displacement: \\033[0m\\n'\n",
    "    f'Median: {medians[1]}\\n'\n",
    "      f'Mean: {means[1]}\\n'\n",
    "     f'Q1: {q1[1]}\\n'\n",
    "     f'Q3: {q3[1]}\\n')\n",
    "print(f'\\033[1mZ displacement: \\033[0m \\n'\n",
    "    f'Median: {medians[2]}\\n'\n",
    "      f'Mean: {means[2]}\\n'\n",
    "     f'Q1: {q1[2]}\\n'\n",
    "     f'Q3: {q3[2]}\\n')\n",
    "\n",
    "from scipy import stats\n",
    "stat=stats.kruskal(x, y, z)\n",
    "print(f'The p value is {round(stat[1],2)}')\n",
    "\n",
    "plt.savefig('Boxplot of Average displacement Distribution')"
   ]
  },
  {
   "cell_type": "code",
   "execution_count": null,
   "id": "8dfe723c",
   "metadata": {},
   "outputs": [],
   "source": []
  }
 ],
 "metadata": {
  "kernelspec": {
   "display_name": "Python 3",
   "language": "python",
   "name": "python3"
  },
  "language_info": {
   "codemirror_mode": {
    "name": "ipython",
    "version": 3
   },
   "file_extension": ".py",
   "mimetype": "text/x-python",
   "name": "python",
   "nbconvert_exporter": "python",
   "pygments_lexer": "ipython3",
   "version": "3.8.8"
  }
 },
 "nbformat": 4,
 "nbformat_minor": 5
}
